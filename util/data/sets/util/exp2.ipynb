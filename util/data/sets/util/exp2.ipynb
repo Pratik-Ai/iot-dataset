{
 "cells": [
  {
   "cell_type": "code",
   "execution_count": 3,
   "metadata": {},
   "outputs": [
    {
     "name": "stdout",
     "output_type": "stream",
     "text": [
      "Accuracy: 0.7677115063378206\n"
     ]
    }
   ],
   "source": [
    "import pandas as pd\n",
    "from sklearn.svm import SVC\n",
    "from sklearn.preprocessing import LabelEncoder\n",
    "from sklearn.model_selection import train_test_split\n",
    "\n",
    "# Load the data\n",
    "data = pd.read_csv(\"dataset_diabetes/dataset_diabetes/diabetic_data.csv\")\n",
    "\n",
    "def preprocess(data):\n",
    "    data = data.drop(['race','gender','age','weight','encounter_id','patient_nbr','payer_code','medical_specialty','readmitted'],axis = 1)\n",
    "    Encoder(data)\n",
    "    return data\n",
    "\n",
    "def Encoder(df):\n",
    "          columnsToEncode = list(df.select_dtypes(include=['category','object']))\n",
    "          le = LabelEncoder()\n",
    "          for feature in columnsToEncode:\n",
    "              try:\n",
    "                  df[feature] = le.fit_transform(df[feature])\n",
    "              except:\n",
    "                  print('Error encoding '+feature)\n",
    "          return df\n",
    "data = preprocess(data)\n",
    "from sklearn.decomposition import PCA\n",
    "pca = PCA(n_components = 5)\n",
    "y = data.iloc[:,-1]\n",
    "x = data.iloc[:,:-1] # features\n",
    "x = pca.fit_transform(x)\n",
    "# Split the data into a training set and a test set\n",
    "x_train, x_test, y_train, y_test = train_test_split(x, y, test_size=0.2)\n",
    "model = SVC()\n",
    "model.fit(x_train, y_train)\n",
    "accuracy = model.score(x_test, y_test)\n",
    "print(\"Accuracy:\", accuracy)\n",
    "\n",
    "def authenticate(data):\n",
    "  prediction = model.predict([data])\n",
    "  if prediction == 1:\n",
    "    return \"Authorized\"\n",
    "  else:\n",
    "    return \"Unauthorized\"\n",
    "\n"
   ]
  },
  {
   "cell_type": "code",
   "execution_count": 4,
   "metadata": {},
   "outputs": [
    {
     "name": "stdout",
     "output_type": "stream",
     "text": [
      "Authorized\n"
     ]
    }
   ],
   "source": [
    "print(authenticate(x_test[0]))"
   ]
  },
  {
   "cell_type": "code",
   "execution_count": null,
   "metadata": {},
   "outputs": [],
   "source": []
  }
 ],
 "metadata": {
  "kernelspec": {
   "display_name": "venv",
   "language": "python",
   "name": "python3"
  },
  "language_info": {
   "codemirror_mode": {
    "name": "ipython",
    "version": 3
   },
   "file_extension": ".py",
   "mimetype": "text/x-python",
   "name": "python",
   "nbconvert_exporter": "python",
   "pygments_lexer": "ipython3",
   "version": "3.8.7 (tags/v3.8.7:6503f05, Dec 21 2020, 17:59:51) [MSC v.1928 64 bit (AMD64)]"
  },
  "orig_nbformat": 4,
  "vscode": {
   "interpreter": {
    "hash": "3c756ede5d1839832e7773b3d8e3e176e064d23c4a6dd8bd0c11ed56ed530a85"
   }
  }
 },
 "nbformat": 4,
 "nbformat_minor": 2
}
